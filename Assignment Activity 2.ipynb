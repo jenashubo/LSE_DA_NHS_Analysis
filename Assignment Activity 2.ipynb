{
 "cells": [
  {
   "cell_type": "code",
   "execution_count": 1,
   "metadata": {},
   "outputs": [],
   "source": [
    "import pandas as pd\n",
    "import numpy as np"
   ]
  },
  {
   "cell_type": "code",
   "execution_count": 2,
   "metadata": {},
   "outputs": [],
   "source": [
    "ad = pd.read_csv('actual_duration.csv')"
   ]
  },
  {
   "cell_type": "code",
   "execution_count": 3,
   "metadata": {},
   "outputs": [],
   "source": [
    "ar = pd.read_csv('appointments_regional.csv')"
   ]
  },
  {
   "cell_type": "code",
   "execution_count": 4,
   "metadata": {},
   "outputs": [],
   "source": [
    "nc = pd.read_excel('national_categories.xlsx')"
   ]
  },
  {
   "cell_type": "code",
   "execution_count": 5,
   "metadata": {},
   "outputs": [
    {
     "name": "stdout",
     "output_type": "stream",
     "text": [
      "Index(['sub_icb_location_code', 'sub_icb_location_ons_code',\n",
      "       'sub_icb_location_name', 'icb_ons_code', 'region_ons_code',\n",
      "       'appointment_date', 'actual_duration', 'count_of_appointments'],\n",
      "      dtype='object')\n"
     ]
    }
   ],
   "source": [
    "print(ad.columns)"
   ]
  },
  {
   "cell_type": "code",
   "execution_count": 6,
   "metadata": {
    "scrolled": true
   },
   "outputs": [
    {
     "data": {
      "text/html": [
       "<div>\n",
       "<style scoped>\n",
       "    .dataframe tbody tr th:only-of-type {\n",
       "        vertical-align: middle;\n",
       "    }\n",
       "\n",
       "    .dataframe tbody tr th {\n",
       "        vertical-align: top;\n",
       "    }\n",
       "\n",
       "    .dataframe thead th {\n",
       "        text-align: right;\n",
       "    }\n",
       "</style>\n",
       "<table border=\"1\" class=\"dataframe\">\n",
       "  <thead>\n",
       "    <tr style=\"text-align: right;\">\n",
       "      <th></th>\n",
       "      <th>count_of_appointments</th>\n",
       "    </tr>\n",
       "  </thead>\n",
       "  <tbody>\n",
       "    <tr>\n",
       "      <th>count</th>\n",
       "      <td>817394.000000</td>\n",
       "    </tr>\n",
       "    <tr>\n",
       "      <th>mean</th>\n",
       "      <td>362.183684</td>\n",
       "    </tr>\n",
       "    <tr>\n",
       "      <th>std</th>\n",
       "      <td>1084.576600</td>\n",
       "    </tr>\n",
       "    <tr>\n",
       "      <th>min</th>\n",
       "      <td>1.000000</td>\n",
       "    </tr>\n",
       "    <tr>\n",
       "      <th>25%</th>\n",
       "      <td>7.000000</td>\n",
       "    </tr>\n",
       "    <tr>\n",
       "      <th>50%</th>\n",
       "      <td>25.000000</td>\n",
       "    </tr>\n",
       "    <tr>\n",
       "      <th>75%</th>\n",
       "      <td>128.000000</td>\n",
       "    </tr>\n",
       "    <tr>\n",
       "      <th>max</th>\n",
       "      <td>16590.000000</td>\n",
       "    </tr>\n",
       "  </tbody>\n",
       "</table>\n",
       "</div>"
      ],
      "text/plain": [
       "       count_of_appointments\n",
       "count          817394.000000\n",
       "mean              362.183684\n",
       "std              1084.576600\n",
       "min                 1.000000\n",
       "25%                 7.000000\n",
       "50%                25.000000\n",
       "75%               128.000000\n",
       "max             16590.000000"
      ]
     },
     "execution_count": 6,
     "metadata": {},
     "output_type": "execute_result"
    }
   ],
   "source": [
    "nc.describe()"
   ]
  },
  {
   "cell_type": "code",
   "execution_count": 7,
   "metadata": {},
   "outputs": [
    {
     "data": {
      "text/html": [
       "<div>\n",
       "<style scoped>\n",
       "    .dataframe tbody tr th:only-of-type {\n",
       "        vertical-align: middle;\n",
       "    }\n",
       "\n",
       "    .dataframe tbody tr th {\n",
       "        vertical-align: top;\n",
       "    }\n",
       "\n",
       "    .dataframe thead th {\n",
       "        text-align: right;\n",
       "    }\n",
       "</style>\n",
       "<table border=\"1\" class=\"dataframe\">\n",
       "  <thead>\n",
       "    <tr style=\"text-align: right;\">\n",
       "      <th></th>\n",
       "      <th>sub_icb_location_code</th>\n",
       "      <th>sub_icb_location_ons_code</th>\n",
       "      <th>sub_icb_location_name</th>\n",
       "      <th>icb_ons_code</th>\n",
       "      <th>region_ons_code</th>\n",
       "      <th>appointment_date</th>\n",
       "      <th>actual_duration</th>\n",
       "      <th>count_of_appointments</th>\n",
       "    </tr>\n",
       "  </thead>\n",
       "  <tbody>\n",
       "    <tr>\n",
       "      <th>0</th>\n",
       "      <td>00L</td>\n",
       "      <td>E38000130</td>\n",
       "      <td>NHS North East and North Cumbria ICB - 00L</td>\n",
       "      <td>E54000050</td>\n",
       "      <td>E40000012</td>\n",
       "      <td>01-Dec-21</td>\n",
       "      <td>31-60 Minutes</td>\n",
       "      <td>364</td>\n",
       "    </tr>\n",
       "    <tr>\n",
       "      <th>1</th>\n",
       "      <td>00L</td>\n",
       "      <td>E38000130</td>\n",
       "      <td>NHS North East and North Cumbria ICB - 00L</td>\n",
       "      <td>E54000050</td>\n",
       "      <td>E40000012</td>\n",
       "      <td>01-Dec-21</td>\n",
       "      <td>21-30 Minutes</td>\n",
       "      <td>619</td>\n",
       "    </tr>\n",
       "    <tr>\n",
       "      <th>2</th>\n",
       "      <td>00L</td>\n",
       "      <td>E38000130</td>\n",
       "      <td>NHS North East and North Cumbria ICB - 00L</td>\n",
       "      <td>E54000050</td>\n",
       "      <td>E40000012</td>\n",
       "      <td>01-Dec-21</td>\n",
       "      <td>6-10 Minutes</td>\n",
       "      <td>1698</td>\n",
       "    </tr>\n",
       "    <tr>\n",
       "      <th>3</th>\n",
       "      <td>00L</td>\n",
       "      <td>E38000130</td>\n",
       "      <td>NHS North East and North Cumbria ICB - 00L</td>\n",
       "      <td>E54000050</td>\n",
       "      <td>E40000012</td>\n",
       "      <td>01-Dec-21</td>\n",
       "      <td>Unknown / Data Quality</td>\n",
       "      <td>1277</td>\n",
       "    </tr>\n",
       "    <tr>\n",
       "      <th>4</th>\n",
       "      <td>00L</td>\n",
       "      <td>E38000130</td>\n",
       "      <td>NHS North East and North Cumbria ICB - 00L</td>\n",
       "      <td>E54000050</td>\n",
       "      <td>E40000012</td>\n",
       "      <td>01-Dec-21</td>\n",
       "      <td>16-20 Minutes</td>\n",
       "      <td>730</td>\n",
       "    </tr>\n",
       "    <tr>\n",
       "      <th>...</th>\n",
       "      <td>...</td>\n",
       "      <td>...</td>\n",
       "      <td>...</td>\n",
       "      <td>...</td>\n",
       "      <td>...</td>\n",
       "      <td>...</td>\n",
       "      <td>...</td>\n",
       "      <td>...</td>\n",
       "    </tr>\n",
       "    <tr>\n",
       "      <th>137788</th>\n",
       "      <td>X2C4Y</td>\n",
       "      <td>E38000254</td>\n",
       "      <td>NHS West Yorkshire ICB - X2C4Y</td>\n",
       "      <td>E54000054</td>\n",
       "      <td>E40000012</td>\n",
       "      <td>30-Jun-22</td>\n",
       "      <td>31-60 Minutes</td>\n",
       "      <td>430</td>\n",
       "    </tr>\n",
       "    <tr>\n",
       "      <th>137789</th>\n",
       "      <td>X2C4Y</td>\n",
       "      <td>E38000254</td>\n",
       "      <td>NHS West Yorkshire ICB - X2C4Y</td>\n",
       "      <td>E54000054</td>\n",
       "      <td>E40000012</td>\n",
       "      <td>30-Jun-22</td>\n",
       "      <td>21-30 Minutes</td>\n",
       "      <td>751</td>\n",
       "    </tr>\n",
       "    <tr>\n",
       "      <th>137790</th>\n",
       "      <td>X2C4Y</td>\n",
       "      <td>E38000254</td>\n",
       "      <td>NHS West Yorkshire ICB - X2C4Y</td>\n",
       "      <td>E54000054</td>\n",
       "      <td>E40000012</td>\n",
       "      <td>30-Jun-22</td>\n",
       "      <td>16-20 Minutes</td>\n",
       "      <td>921</td>\n",
       "    </tr>\n",
       "    <tr>\n",
       "      <th>137791</th>\n",
       "      <td>X2C4Y</td>\n",
       "      <td>E38000254</td>\n",
       "      <td>NHS West Yorkshire ICB - X2C4Y</td>\n",
       "      <td>E54000054</td>\n",
       "      <td>E40000012</td>\n",
       "      <td>30-Jun-22</td>\n",
       "      <td>11-15 Minutes</td>\n",
       "      <td>1439</td>\n",
       "    </tr>\n",
       "    <tr>\n",
       "      <th>137792</th>\n",
       "      <td>X2C4Y</td>\n",
       "      <td>E38000254</td>\n",
       "      <td>NHS West Yorkshire ICB - X2C4Y</td>\n",
       "      <td>E54000054</td>\n",
       "      <td>E40000012</td>\n",
       "      <td>30-Jun-22</td>\n",
       "      <td>1-5 Minutes</td>\n",
       "      <td>1739</td>\n",
       "    </tr>\n",
       "  </tbody>\n",
       "</table>\n",
       "<p>137793 rows × 8 columns</p>\n",
       "</div>"
      ],
      "text/plain": [
       "       sub_icb_location_code sub_icb_location_ons_code  \\\n",
       "0                        00L                 E38000130   \n",
       "1                        00L                 E38000130   \n",
       "2                        00L                 E38000130   \n",
       "3                        00L                 E38000130   \n",
       "4                        00L                 E38000130   \n",
       "...                      ...                       ...   \n",
       "137788                 X2C4Y                 E38000254   \n",
       "137789                 X2C4Y                 E38000254   \n",
       "137790                 X2C4Y                 E38000254   \n",
       "137791                 X2C4Y                 E38000254   \n",
       "137792                 X2C4Y                 E38000254   \n",
       "\n",
       "                             sub_icb_location_name icb_ons_code  \\\n",
       "0       NHS North East and North Cumbria ICB - 00L    E54000050   \n",
       "1       NHS North East and North Cumbria ICB - 00L    E54000050   \n",
       "2       NHS North East and North Cumbria ICB - 00L    E54000050   \n",
       "3       NHS North East and North Cumbria ICB - 00L    E54000050   \n",
       "4       NHS North East and North Cumbria ICB - 00L    E54000050   \n",
       "...                                            ...          ...   \n",
       "137788              NHS West Yorkshire ICB - X2C4Y    E54000054   \n",
       "137789              NHS West Yorkshire ICB - X2C4Y    E54000054   \n",
       "137790              NHS West Yorkshire ICB - X2C4Y    E54000054   \n",
       "137791              NHS West Yorkshire ICB - X2C4Y    E54000054   \n",
       "137792              NHS West Yorkshire ICB - X2C4Y    E54000054   \n",
       "\n",
       "       region_ons_code appointment_date         actual_duration  \\\n",
       "0            E40000012        01-Dec-21           31-60 Minutes   \n",
       "1            E40000012        01-Dec-21           21-30 Minutes   \n",
       "2            E40000012        01-Dec-21            6-10 Minutes   \n",
       "3            E40000012        01-Dec-21  Unknown / Data Quality   \n",
       "4            E40000012        01-Dec-21           16-20 Minutes   \n",
       "...                ...              ...                     ...   \n",
       "137788       E40000012        30-Jun-22           31-60 Minutes   \n",
       "137789       E40000012        30-Jun-22           21-30 Minutes   \n",
       "137790       E40000012        30-Jun-22           16-20 Minutes   \n",
       "137791       E40000012        30-Jun-22           11-15 Minutes   \n",
       "137792       E40000012        30-Jun-22             1-5 Minutes   \n",
       "\n",
       "        count_of_appointments  \n",
       "0                         364  \n",
       "1                         619  \n",
       "2                        1698  \n",
       "3                        1277  \n",
       "4                         730  \n",
       "...                       ...  \n",
       "137788                    430  \n",
       "137789                    751  \n",
       "137790                    921  \n",
       "137791                   1439  \n",
       "137792                   1739  \n",
       "\n",
       "[137793 rows x 8 columns]"
      ]
     },
     "execution_count": 7,
     "metadata": {},
     "output_type": "execute_result"
    }
   ],
   "source": [
    "ad"
   ]
  },
  {
   "cell_type": "code",
   "execution_count": 8,
   "metadata": {},
   "outputs": [
    {
     "data": {
      "text/html": [
       "<div>\n",
       "<style scoped>\n",
       "    .dataframe tbody tr th:only-of-type {\n",
       "        vertical-align: middle;\n",
       "    }\n",
       "\n",
       "    .dataframe tbody tr th {\n",
       "        vertical-align: top;\n",
       "    }\n",
       "\n",
       "    .dataframe thead th {\n",
       "        text-align: right;\n",
       "    }\n",
       "</style>\n",
       "<table border=\"1\" class=\"dataframe\">\n",
       "  <thead>\n",
       "    <tr style=\"text-align: right;\">\n",
       "      <th></th>\n",
       "      <th>icb_ons_code</th>\n",
       "      <th>appointment_month</th>\n",
       "      <th>appointment_status</th>\n",
       "      <th>hcp_type</th>\n",
       "      <th>appointment_mode</th>\n",
       "      <th>time_between_book_and_appointment</th>\n",
       "      <th>count_of_appointments</th>\n",
       "    </tr>\n",
       "  </thead>\n",
       "  <tbody>\n",
       "    <tr>\n",
       "      <th>0</th>\n",
       "      <td>E54000034</td>\n",
       "      <td>2020-01</td>\n",
       "      <td>Attended</td>\n",
       "      <td>GP</td>\n",
       "      <td>Face-to-Face</td>\n",
       "      <td>1 Day</td>\n",
       "      <td>8107</td>\n",
       "    </tr>\n",
       "    <tr>\n",
       "      <th>1</th>\n",
       "      <td>E54000034</td>\n",
       "      <td>2020-01</td>\n",
       "      <td>Attended</td>\n",
       "      <td>GP</td>\n",
       "      <td>Face-to-Face</td>\n",
       "      <td>15  to 21 Days</td>\n",
       "      <td>6791</td>\n",
       "    </tr>\n",
       "    <tr>\n",
       "      <th>2</th>\n",
       "      <td>E54000034</td>\n",
       "      <td>2020-01</td>\n",
       "      <td>Attended</td>\n",
       "      <td>GP</td>\n",
       "      <td>Face-to-Face</td>\n",
       "      <td>2 to 7 Days</td>\n",
       "      <td>20686</td>\n",
       "    </tr>\n",
       "    <tr>\n",
       "      <th>3</th>\n",
       "      <td>E54000034</td>\n",
       "      <td>2020-01</td>\n",
       "      <td>Attended</td>\n",
       "      <td>GP</td>\n",
       "      <td>Face-to-Face</td>\n",
       "      <td>22  to 28 Days</td>\n",
       "      <td>4268</td>\n",
       "    </tr>\n",
       "    <tr>\n",
       "      <th>4</th>\n",
       "      <td>E54000034</td>\n",
       "      <td>2020-01</td>\n",
       "      <td>Attended</td>\n",
       "      <td>GP</td>\n",
       "      <td>Face-to-Face</td>\n",
       "      <td>8  to 14 Days</td>\n",
       "      <td>11971</td>\n",
       "    </tr>\n",
       "    <tr>\n",
       "      <th>...</th>\n",
       "      <td>...</td>\n",
       "      <td>...</td>\n",
       "      <td>...</td>\n",
       "      <td>...</td>\n",
       "      <td>...</td>\n",
       "      <td>...</td>\n",
       "      <td>...</td>\n",
       "    </tr>\n",
       "    <tr>\n",
       "      <th>596816</th>\n",
       "      <td>E54000050</td>\n",
       "      <td>2022-06</td>\n",
       "      <td>Unknown</td>\n",
       "      <td>Unknown</td>\n",
       "      <td>Unknown</td>\n",
       "      <td>2 to 7 Days</td>\n",
       "      <td>21</td>\n",
       "    </tr>\n",
       "    <tr>\n",
       "      <th>596817</th>\n",
       "      <td>E54000050</td>\n",
       "      <td>2022-06</td>\n",
       "      <td>Unknown</td>\n",
       "      <td>Unknown</td>\n",
       "      <td>Unknown</td>\n",
       "      <td>22  to 28 Days</td>\n",
       "      <td>8</td>\n",
       "    </tr>\n",
       "    <tr>\n",
       "      <th>596818</th>\n",
       "      <td>E54000050</td>\n",
       "      <td>2022-06</td>\n",
       "      <td>Unknown</td>\n",
       "      <td>Unknown</td>\n",
       "      <td>Unknown</td>\n",
       "      <td>8  to 14 Days</td>\n",
       "      <td>28</td>\n",
       "    </tr>\n",
       "    <tr>\n",
       "      <th>596819</th>\n",
       "      <td>E54000050</td>\n",
       "      <td>2022-06</td>\n",
       "      <td>Unknown</td>\n",
       "      <td>Unknown</td>\n",
       "      <td>Unknown</td>\n",
       "      <td>More than 28 Days</td>\n",
       "      <td>17</td>\n",
       "    </tr>\n",
       "    <tr>\n",
       "      <th>596820</th>\n",
       "      <td>E54000050</td>\n",
       "      <td>2022-06</td>\n",
       "      <td>Unknown</td>\n",
       "      <td>Unknown</td>\n",
       "      <td>Unknown</td>\n",
       "      <td>Same Day</td>\n",
       "      <td>10</td>\n",
       "    </tr>\n",
       "  </tbody>\n",
       "</table>\n",
       "<p>596821 rows × 7 columns</p>\n",
       "</div>"
      ],
      "text/plain": [
       "       icb_ons_code appointment_month appointment_status hcp_type  \\\n",
       "0         E54000034           2020-01           Attended       GP   \n",
       "1         E54000034           2020-01           Attended       GP   \n",
       "2         E54000034           2020-01           Attended       GP   \n",
       "3         E54000034           2020-01           Attended       GP   \n",
       "4         E54000034           2020-01           Attended       GP   \n",
       "...             ...               ...                ...      ...   \n",
       "596816    E54000050           2022-06            Unknown  Unknown   \n",
       "596817    E54000050           2022-06            Unknown  Unknown   \n",
       "596818    E54000050           2022-06            Unknown  Unknown   \n",
       "596819    E54000050           2022-06            Unknown  Unknown   \n",
       "596820    E54000050           2022-06            Unknown  Unknown   \n",
       "\n",
       "       appointment_mode time_between_book_and_appointment  \\\n",
       "0          Face-to-Face                             1 Day   \n",
       "1          Face-to-Face                    15  to 21 Days   \n",
       "2          Face-to-Face                       2 to 7 Days   \n",
       "3          Face-to-Face                    22  to 28 Days   \n",
       "4          Face-to-Face                     8  to 14 Days   \n",
       "...                 ...                               ...   \n",
       "596816          Unknown                       2 to 7 Days   \n",
       "596817          Unknown                    22  to 28 Days   \n",
       "596818          Unknown                     8  to 14 Days   \n",
       "596819          Unknown                 More than 28 Days   \n",
       "596820          Unknown                          Same Day   \n",
       "\n",
       "        count_of_appointments  \n",
       "0                        8107  \n",
       "1                        6791  \n",
       "2                       20686  \n",
       "3                        4268  \n",
       "4                       11971  \n",
       "...                       ...  \n",
       "596816                     21  \n",
       "596817                      8  \n",
       "596818                     28  \n",
       "596819                     17  \n",
       "596820                     10  \n",
       "\n",
       "[596821 rows x 7 columns]"
      ]
     },
     "execution_count": 8,
     "metadata": {},
     "output_type": "execute_result"
    }
   ],
   "source": [
    "ar"
   ]
  },
  {
   "cell_type": "code",
   "execution_count": 9,
   "metadata": {},
   "outputs": [
    {
     "data": {
      "text/html": [
       "<div>\n",
       "<style scoped>\n",
       "    .dataframe tbody tr th:only-of-type {\n",
       "        vertical-align: middle;\n",
       "    }\n",
       "\n",
       "    .dataframe tbody tr th {\n",
       "        vertical-align: top;\n",
       "    }\n",
       "\n",
       "    .dataframe thead th {\n",
       "        text-align: right;\n",
       "    }\n",
       "</style>\n",
       "<table border=\"1\" class=\"dataframe\">\n",
       "  <thead>\n",
       "    <tr style=\"text-align: right;\">\n",
       "      <th></th>\n",
       "      <th>appointment_date</th>\n",
       "      <th>icb_ons_code</th>\n",
       "      <th>sub_icb_location_name</th>\n",
       "      <th>service_setting</th>\n",
       "      <th>context_type</th>\n",
       "      <th>national_category</th>\n",
       "      <th>count_of_appointments</th>\n",
       "      <th>appointment_month</th>\n",
       "    </tr>\n",
       "  </thead>\n",
       "  <tbody>\n",
       "    <tr>\n",
       "      <th>0</th>\n",
       "      <td>2021-08-02</td>\n",
       "      <td>E54000050</td>\n",
       "      <td>NHS North East and North Cumbria ICB - 00L</td>\n",
       "      <td>Primary Care Network</td>\n",
       "      <td>Care Related Encounter</td>\n",
       "      <td>Patient contact during Care Home Round</td>\n",
       "      <td>3</td>\n",
       "      <td>2021-08</td>\n",
       "    </tr>\n",
       "    <tr>\n",
       "      <th>1</th>\n",
       "      <td>2021-08-02</td>\n",
       "      <td>E54000050</td>\n",
       "      <td>NHS North East and North Cumbria ICB - 00L</td>\n",
       "      <td>Other</td>\n",
       "      <td>Care Related Encounter</td>\n",
       "      <td>Planned Clinics</td>\n",
       "      <td>7</td>\n",
       "      <td>2021-08</td>\n",
       "    </tr>\n",
       "    <tr>\n",
       "      <th>2</th>\n",
       "      <td>2021-08-02</td>\n",
       "      <td>E54000050</td>\n",
       "      <td>NHS North East and North Cumbria ICB - 00L</td>\n",
       "      <td>General Practice</td>\n",
       "      <td>Care Related Encounter</td>\n",
       "      <td>Home Visit</td>\n",
       "      <td>79</td>\n",
       "      <td>2021-08</td>\n",
       "    </tr>\n",
       "    <tr>\n",
       "      <th>3</th>\n",
       "      <td>2021-08-02</td>\n",
       "      <td>E54000050</td>\n",
       "      <td>NHS North East and North Cumbria ICB - 00L</td>\n",
       "      <td>General Practice</td>\n",
       "      <td>Care Related Encounter</td>\n",
       "      <td>General Consultation Acute</td>\n",
       "      <td>725</td>\n",
       "      <td>2021-08</td>\n",
       "    </tr>\n",
       "    <tr>\n",
       "      <th>4</th>\n",
       "      <td>2021-08-02</td>\n",
       "      <td>E54000050</td>\n",
       "      <td>NHS North East and North Cumbria ICB - 00L</td>\n",
       "      <td>General Practice</td>\n",
       "      <td>Care Related Encounter</td>\n",
       "      <td>Structured Medication Review</td>\n",
       "      <td>2</td>\n",
       "      <td>2021-08</td>\n",
       "    </tr>\n",
       "    <tr>\n",
       "      <th>...</th>\n",
       "      <td>...</td>\n",
       "      <td>...</td>\n",
       "      <td>...</td>\n",
       "      <td>...</td>\n",
       "      <td>...</td>\n",
       "      <td>...</td>\n",
       "      <td>...</td>\n",
       "      <td>...</td>\n",
       "    </tr>\n",
       "    <tr>\n",
       "      <th>817389</th>\n",
       "      <td>2022-06-30</td>\n",
       "      <td>E54000054</td>\n",
       "      <td>NHS West Yorkshire ICB - X2C4Y</td>\n",
       "      <td>Extended Access Provision</td>\n",
       "      <td>Care Related Encounter</td>\n",
       "      <td>Unplanned Clinical Activity</td>\n",
       "      <td>12</td>\n",
       "      <td>2022-06</td>\n",
       "    </tr>\n",
       "    <tr>\n",
       "      <th>817390</th>\n",
       "      <td>2022-06-30</td>\n",
       "      <td>E54000054</td>\n",
       "      <td>NHS West Yorkshire ICB - X2C4Y</td>\n",
       "      <td>Extended Access Provision</td>\n",
       "      <td>Care Related Encounter</td>\n",
       "      <td>Planned Clinics</td>\n",
       "      <td>4</td>\n",
       "      <td>2022-06</td>\n",
       "    </tr>\n",
       "    <tr>\n",
       "      <th>817391</th>\n",
       "      <td>2022-06-30</td>\n",
       "      <td>E54000054</td>\n",
       "      <td>NHS West Yorkshire ICB - X2C4Y</td>\n",
       "      <td>Extended Access Provision</td>\n",
       "      <td>Care Related Encounter</td>\n",
       "      <td>Planned Clinical Procedure</td>\n",
       "      <td>92</td>\n",
       "      <td>2022-06</td>\n",
       "    </tr>\n",
       "    <tr>\n",
       "      <th>817392</th>\n",
       "      <td>2022-06-30</td>\n",
       "      <td>E54000054</td>\n",
       "      <td>NHS West Yorkshire ICB - X2C4Y</td>\n",
       "      <td>Extended Access Provision</td>\n",
       "      <td>Care Related Encounter</td>\n",
       "      <td>General Consultation Routine</td>\n",
       "      <td>4</td>\n",
       "      <td>2022-06</td>\n",
       "    </tr>\n",
       "    <tr>\n",
       "      <th>817393</th>\n",
       "      <td>2022-06-30</td>\n",
       "      <td>E54000054</td>\n",
       "      <td>NHS West Yorkshire ICB - X2C4Y</td>\n",
       "      <td>Extended Access Provision</td>\n",
       "      <td>Care Related Encounter</td>\n",
       "      <td>General Consultation Acute</td>\n",
       "      <td>19</td>\n",
       "      <td>2022-06</td>\n",
       "    </tr>\n",
       "  </tbody>\n",
       "</table>\n",
       "<p>817394 rows × 8 columns</p>\n",
       "</div>"
      ],
      "text/plain": [
       "       appointment_date icb_ons_code  \\\n",
       "0            2021-08-02    E54000050   \n",
       "1            2021-08-02    E54000050   \n",
       "2            2021-08-02    E54000050   \n",
       "3            2021-08-02    E54000050   \n",
       "4            2021-08-02    E54000050   \n",
       "...                 ...          ...   \n",
       "817389       2022-06-30    E54000054   \n",
       "817390       2022-06-30    E54000054   \n",
       "817391       2022-06-30    E54000054   \n",
       "817392       2022-06-30    E54000054   \n",
       "817393       2022-06-30    E54000054   \n",
       "\n",
       "                             sub_icb_location_name            service_setting  \\\n",
       "0       NHS North East and North Cumbria ICB - 00L       Primary Care Network   \n",
       "1       NHS North East and North Cumbria ICB - 00L                      Other   \n",
       "2       NHS North East and North Cumbria ICB - 00L           General Practice   \n",
       "3       NHS North East and North Cumbria ICB - 00L           General Practice   \n",
       "4       NHS North East and North Cumbria ICB - 00L           General Practice   \n",
       "...                                            ...                        ...   \n",
       "817389              NHS West Yorkshire ICB - X2C4Y  Extended Access Provision   \n",
       "817390              NHS West Yorkshire ICB - X2C4Y  Extended Access Provision   \n",
       "817391              NHS West Yorkshire ICB - X2C4Y  Extended Access Provision   \n",
       "817392              NHS West Yorkshire ICB - X2C4Y  Extended Access Provision   \n",
       "817393              NHS West Yorkshire ICB - X2C4Y  Extended Access Provision   \n",
       "\n",
       "                  context_type                       national_category  \\\n",
       "0       Care Related Encounter  Patient contact during Care Home Round   \n",
       "1       Care Related Encounter                         Planned Clinics   \n",
       "2       Care Related Encounter                              Home Visit   \n",
       "3       Care Related Encounter              General Consultation Acute   \n",
       "4       Care Related Encounter            Structured Medication Review   \n",
       "...                        ...                                     ...   \n",
       "817389  Care Related Encounter             Unplanned Clinical Activity   \n",
       "817390  Care Related Encounter                         Planned Clinics   \n",
       "817391  Care Related Encounter              Planned Clinical Procedure   \n",
       "817392  Care Related Encounter            General Consultation Routine   \n",
       "817393  Care Related Encounter              General Consultation Acute   \n",
       "\n",
       "        count_of_appointments appointment_month  \n",
       "0                           3           2021-08  \n",
       "1                           7           2021-08  \n",
       "2                          79           2021-08  \n",
       "3                         725           2021-08  \n",
       "4                           2           2021-08  \n",
       "...                       ...               ...  \n",
       "817389                     12           2022-06  \n",
       "817390                      4           2022-06  \n",
       "817391                     92           2022-06  \n",
       "817392                      4           2022-06  \n",
       "817393                     19           2022-06  \n",
       "\n",
       "[817394 rows x 8 columns]"
      ]
     },
     "execution_count": 9,
     "metadata": {},
     "output_type": "execute_result"
    }
   ],
   "source": [
    "nc"
   ]
  },
  {
   "cell_type": "code",
   "execution_count": 10,
   "metadata": {},
   "outputs": [],
   "source": [
    "ad_na = ad[ad.isna().any(axis=1)]"
   ]
  },
  {
   "cell_type": "code",
   "execution_count": 11,
   "metadata": {},
   "outputs": [
    {
     "data": {
      "text/plain": [
       "(0, 8)"
      ]
     },
     "execution_count": 11,
     "metadata": {},
     "output_type": "execute_result"
    }
   ],
   "source": [
    "ad_na.shape"
   ]
  },
  {
   "cell_type": "code",
   "execution_count": 12,
   "metadata": {},
   "outputs": [
    {
     "data": {
      "text/html": [
       "<div>\n",
       "<style scoped>\n",
       "    .dataframe tbody tr th:only-of-type {\n",
       "        vertical-align: middle;\n",
       "    }\n",
       "\n",
       "    .dataframe tbody tr th {\n",
       "        vertical-align: top;\n",
       "    }\n",
       "\n",
       "    .dataframe thead th {\n",
       "        text-align: right;\n",
       "    }\n",
       "</style>\n",
       "<table border=\"1\" class=\"dataframe\">\n",
       "  <thead>\n",
       "    <tr style=\"text-align: right;\">\n",
       "      <th></th>\n",
       "      <th>sub_icb_location_code</th>\n",
       "      <th>sub_icb_location_ons_code</th>\n",
       "      <th>sub_icb_location_name</th>\n",
       "      <th>icb_ons_code</th>\n",
       "      <th>region_ons_code</th>\n",
       "      <th>appointment_date</th>\n",
       "      <th>actual_duration</th>\n",
       "      <th>count_of_appointments</th>\n",
       "    </tr>\n",
       "  </thead>\n",
       "  <tbody>\n",
       "  </tbody>\n",
       "</table>\n",
       "</div>"
      ],
      "text/plain": [
       "Empty DataFrame\n",
       "Columns: [sub_icb_location_code, sub_icb_location_ons_code, sub_icb_location_name, icb_ons_code, region_ons_code, appointment_date, actual_duration, count_of_appointments]\n",
       "Index: []"
      ]
     },
     "execution_count": 12,
     "metadata": {},
     "output_type": "execute_result"
    }
   ],
   "source": [
    "ad_na"
   ]
  },
  {
   "cell_type": "code",
   "execution_count": 13,
   "metadata": {},
   "outputs": [],
   "source": [
    "ar_na = ar[ar.isna().any(axis=1)]"
   ]
  },
  {
   "cell_type": "code",
   "execution_count": 14,
   "metadata": {},
   "outputs": [
    {
     "data": {
      "text/html": [
       "<div>\n",
       "<style scoped>\n",
       "    .dataframe tbody tr th:only-of-type {\n",
       "        vertical-align: middle;\n",
       "    }\n",
       "\n",
       "    .dataframe tbody tr th {\n",
       "        vertical-align: top;\n",
       "    }\n",
       "\n",
       "    .dataframe thead th {\n",
       "        text-align: right;\n",
       "    }\n",
       "</style>\n",
       "<table border=\"1\" class=\"dataframe\">\n",
       "  <thead>\n",
       "    <tr style=\"text-align: right;\">\n",
       "      <th></th>\n",
       "      <th>icb_ons_code</th>\n",
       "      <th>appointment_month</th>\n",
       "      <th>appointment_status</th>\n",
       "      <th>hcp_type</th>\n",
       "      <th>appointment_mode</th>\n",
       "      <th>time_between_book_and_appointment</th>\n",
       "      <th>count_of_appointments</th>\n",
       "    </tr>\n",
       "  </thead>\n",
       "  <tbody>\n",
       "  </tbody>\n",
       "</table>\n",
       "</div>"
      ],
      "text/plain": [
       "Empty DataFrame\n",
       "Columns: [icb_ons_code, appointment_month, appointment_status, hcp_type, appointment_mode, time_between_book_and_appointment, count_of_appointments]\n",
       "Index: []"
      ]
     },
     "execution_count": 14,
     "metadata": {},
     "output_type": "execute_result"
    }
   ],
   "source": [
    "ar_na"
   ]
  },
  {
   "cell_type": "code",
   "execution_count": 15,
   "metadata": {},
   "outputs": [],
   "source": [
    "nc_na = nc[nc.isna().any(axis=1)]"
   ]
  },
  {
   "cell_type": "code",
   "execution_count": 16,
   "metadata": {},
   "outputs": [
    {
     "data": {
      "text/html": [
       "<div>\n",
       "<style scoped>\n",
       "    .dataframe tbody tr th:only-of-type {\n",
       "        vertical-align: middle;\n",
       "    }\n",
       "\n",
       "    .dataframe tbody tr th {\n",
       "        vertical-align: top;\n",
       "    }\n",
       "\n",
       "    .dataframe thead th {\n",
       "        text-align: right;\n",
       "    }\n",
       "</style>\n",
       "<table border=\"1\" class=\"dataframe\">\n",
       "  <thead>\n",
       "    <tr style=\"text-align: right;\">\n",
       "      <th></th>\n",
       "      <th>appointment_date</th>\n",
       "      <th>icb_ons_code</th>\n",
       "      <th>sub_icb_location_name</th>\n",
       "      <th>service_setting</th>\n",
       "      <th>context_type</th>\n",
       "      <th>national_category</th>\n",
       "      <th>count_of_appointments</th>\n",
       "      <th>appointment_month</th>\n",
       "    </tr>\n",
       "  </thead>\n",
       "  <tbody>\n",
       "  </tbody>\n",
       "</table>\n",
       "</div>"
      ],
      "text/plain": [
       "Empty DataFrame\n",
       "Columns: [appointment_date, icb_ons_code, sub_icb_location_name, service_setting, context_type, national_category, count_of_appointments, appointment_month]\n",
       "Index: []"
      ]
     },
     "execution_count": 16,
     "metadata": {},
     "output_type": "execute_result"
    }
   ],
   "source": [
    "nc_na"
   ]
  },
  {
   "cell_type": "code",
   "execution_count": 17,
   "metadata": {},
   "outputs": [
    {
     "name": "stdout",
     "output_type": "stream",
     "text": [
      "There are 106 unique locations in this dataset\n"
     ]
    }
   ],
   "source": [
    "# The number of locations in the data set \n",
    "print(\"There are \" + str(nc.sub_icb_location_name.nunique()) + \" unique locations in this dataset\")"
   ]
  },
  {
   "cell_type": "code",
   "execution_count": 18,
   "metadata": {},
   "outputs": [
    {
     "data": {
      "text/plain": [
       "NHS North West London ICB - W2U3Z              13007\n",
       "NHS Kent and Medway ICB - 91Q                  12637\n",
       "NHS Devon ICB - 15N                            12526\n",
       "NHS Hampshire and Isle Of Wight ICB - D9Y0V    12171\n",
       "NHS North East London ICB - A3A8R              11837\n",
       "                                               ...  \n",
       "NHS North East and North Cumbria ICB - 00N      4210\n",
       "NHS Lancashire and South Cumbria ICB - 02G      4169\n",
       "NHS Cheshire and Merseyside ICB - 01V           3496\n",
       "NHS Cheshire and Merseyside ICB - 01T           3242\n",
       "NHS Greater Manchester ICB - 00V                2170\n",
       "Name: sub_icb_location_name, Length: 106, dtype: int64"
      ]
     },
     "execution_count": 18,
     "metadata": {},
     "output_type": "execute_result"
    }
   ],
   "source": [
    "# Five locations with the highest number of records\n",
    "nc.sub_icb_location_name.value_counts()"
   ]
  },
  {
   "cell_type": "code",
   "execution_count": 19,
   "metadata": {},
   "outputs": [
    {
     "name": "stdout",
     "output_type": "stream",
     "text": [
      "The five locations with the highest number of records are: \n",
      "North West London \n",
      "Kent and Medway \n",
      "Devon \n",
      "Hampshire and Isle of Wight \n",
      "North East London\n"
     ]
    }
   ],
   "source": [
    "# Five locations with the highest number of records\n",
    "print(\"The five locations with the highest\"\n",
    "      \" number of records are:\"\n",
    "      \" \\nNorth West London \\nKent and Medway \\nDevon \"\n",
    "      \"\\nHampshire and Isle of Wight \\nNorth East London\")"
   ]
  },
  {
   "cell_type": "code",
   "execution_count": 20,
   "metadata": {},
   "outputs": [
    {
     "name": "stdout",
     "output_type": "stream",
     "text": [
      "There are 5 unique service settings in this dataset\n",
      "There are 3 unique context types in this dataset\n",
      "There are 18 unique national categories in this dataset\n",
      "There are 3 unique appointment statuses in this dataset\n"
     ]
    }
   ],
   "source": [
    "# Number of unique service settings\n",
    "print(\"There are \" + str(nc.service_setting.nunique()) + \" unique service settings in this dataset\")\n",
    "\n",
    "# Number of unique context types\n",
    "print(\"There are \" + str(nc.context_type.nunique()) + \" unique context types in this dataset\")\n",
    "\n",
    "# Number of unique national categories\n",
    "print(\"There are \" + str(nc.national_category.nunique()) + \" unique national categories in this dataset\")\n",
    "\n",
    "# Number of unique appointment statuses\n",
    "print(\"There are \" + str(ar.appointment_status.nunique()) + \" unique appointment statuses in this dataset\")"
   ]
  },
  {
   "cell_type": "code",
   "execution_count": 21,
   "metadata": {},
   "outputs": [
    {
     "data": {
      "text/plain": [
       "General Practice             359274\n",
       "Primary Care Network         183790\n",
       "Other                        138789\n",
       "Extended Access Provision    108122\n",
       "Unmapped                      27419\n",
       "Name: service_setting, dtype: int64"
      ]
     },
     "execution_count": 21,
     "metadata": {},
     "output_type": "execute_result"
    }
   ],
   "source": [
    "nc.service_setting.value_counts()"
   ]
  },
  {
   "cell_type": "code",
   "execution_count": 22,
   "metadata": {},
   "outputs": [
    {
     "data": {
      "text/plain": [
       "Care Related Encounter    700481\n",
       "Inconsistent Mapping       89494\n",
       "Unmapped                   27419\n",
       "Name: context_type, dtype: int64"
      ]
     },
     "execution_count": 22,
     "metadata": {},
     "output_type": "execute_result"
    }
   ],
   "source": [
    "nc.context_type.value_counts()"
   ]
  },
  {
   "cell_type": "code",
   "execution_count": 23,
   "metadata": {},
   "outputs": [
    {
     "data": {
      "text/plain": [
       "Inconsistent Mapping                                                   89494\n",
       "General Consultation Routine                                           89329\n",
       "General Consultation Acute                                             84874\n",
       "Planned Clinics                                                        76429\n",
       "Clinical Triage                                                        74539\n",
       "Planned Clinical Procedure                                             59631\n",
       "Structured Medication Review                                           44467\n",
       "Service provided by organisation external to the practice              43095\n",
       "Home Visit                                                             41850\n",
       "Unplanned Clinical Activity                                            40415\n",
       "Patient contact during Care Home Round                                 28795\n",
       "Unmapped                                                               27419\n",
       "Care Home Visit                                                        26644\n",
       "Social Prescribing Service                                             26492\n",
       "Care Home Needs Assessment & Personalised Care and Support Planning    23505\n",
       "Non-contractual chargeable work                                        20896\n",
       "Walk-in                                                                14179\n",
       "Group Consultation and Group Education                                  5341\n",
       "Name: national_category, dtype: int64"
      ]
     },
     "execution_count": 23,
     "metadata": {},
     "output_type": "execute_result"
    }
   ],
   "source": [
    "nc.national_category.value_counts()"
   ]
  },
  {
   "cell_type": "code",
   "execution_count": 24,
   "metadata": {},
   "outputs": [
    {
     "data": {
      "text/plain": [
       "Attended    232137\n",
       "Unknown     201324\n",
       "DNA         163360\n",
       "Name: appointment_status, dtype: int64"
      ]
     },
     "execution_count": 24,
     "metadata": {},
     "output_type": "execute_result"
    }
   ],
   "source": [
    "ar.appointment_status.value_counts()"
   ]
  },
  {
   "cell_type": "code",
   "execution_count": 25,
   "metadata": {},
   "outputs": [
    {
     "data": {
      "text/plain": [
       "0    01-Dec-21\n",
       "1    01-Dec-21\n",
       "2    01-Dec-21\n",
       "3    01-Dec-21\n",
       "4    01-Dec-21\n",
       "Name: appointment_date, dtype: object"
      ]
     },
     "execution_count": 25,
     "metadata": {},
     "output_type": "execute_result"
    }
   ],
   "source": [
    "ad.appointment_date.head()"
   ]
  },
  {
   "cell_type": "code",
   "execution_count": 26,
   "metadata": {},
   "outputs": [
    {
     "data": {
      "text/plain": [
       "0   2021-08-02\n",
       "1   2021-08-02\n",
       "2   2021-08-02\n",
       "3   2021-08-02\n",
       "4   2021-08-02\n",
       "Name: appointment_date, dtype: datetime64[ns]"
      ]
     },
     "execution_count": 26,
     "metadata": {},
     "output_type": "execute_result"
    }
   ],
   "source": [
    "nc.appointment_date.head()"
   ]
  },
  {
   "cell_type": "code",
   "execution_count": 27,
   "metadata": {},
   "outputs": [],
   "source": [
    "nc.appointment_date = pd.to_datetime(nc.appointment_date)"
   ]
  },
  {
   "cell_type": "code",
   "execution_count": 28,
   "metadata": {},
   "outputs": [],
   "source": [
    "ad.appointment_date = pd.to_datetime(ad.appointment_date)"
   ]
  },
  {
   "cell_type": "code",
   "execution_count": 29,
   "metadata": {},
   "outputs": [
    {
     "data": {
      "text/plain": [
       "0        2021-12-01\n",
       "1        2021-12-01\n",
       "2        2021-12-01\n",
       "3        2021-12-01\n",
       "4        2021-12-01\n",
       "            ...    \n",
       "137788   2022-06-30\n",
       "137789   2022-06-30\n",
       "137790   2022-06-30\n",
       "137791   2022-06-30\n",
       "137792   2022-06-30\n",
       "Name: appointment_date, Length: 137793, dtype: datetime64[ns]"
      ]
     },
     "execution_count": 29,
     "metadata": {},
     "output_type": "execute_result"
    }
   ],
   "source": [
    "ad.appointment_date"
   ]
  },
  {
   "cell_type": "code",
   "execution_count": 30,
   "metadata": {},
   "outputs": [
    {
     "data": {
      "text/plain": [
       "0        2021-08-02\n",
       "1        2021-08-02\n",
       "2        2021-08-02\n",
       "3        2021-08-02\n",
       "4        2021-08-02\n",
       "            ...    \n",
       "817389   2022-06-30\n",
       "817390   2022-06-30\n",
       "817391   2022-06-30\n",
       "817392   2022-06-30\n",
       "817393   2022-06-30\n",
       "Name: appointment_date, Length: 817394, dtype: datetime64[ns]"
      ]
     },
     "execution_count": 30,
     "metadata": {},
     "output_type": "execute_result"
    }
   ],
   "source": [
    "nc.appointment_date"
   ]
  },
  {
   "cell_type": "code",
   "execution_count": 31,
   "metadata": {},
   "outputs": [
    {
     "data": {
      "text/plain": [
       "Timestamp('2021-12-01 00:00:00')"
      ]
     },
     "execution_count": 31,
     "metadata": {},
     "output_type": "execute_result"
    }
   ],
   "source": [
    "ad.appointment_date.min()"
   ]
  },
  {
   "cell_type": "code",
   "execution_count": 32,
   "metadata": {},
   "outputs": [
    {
     "data": {
      "text/plain": [
       "Timestamp('2022-06-30 00:00:00')"
      ]
     },
     "execution_count": 32,
     "metadata": {},
     "output_type": "execute_result"
    }
   ],
   "source": [
    "ad.appointment_date.max()"
   ]
  },
  {
   "cell_type": "code",
   "execution_count": 33,
   "metadata": {},
   "outputs": [
    {
     "data": {
      "text/plain": [
       "Timestamp('2021-08-01 00:00:00')"
      ]
     },
     "execution_count": 33,
     "metadata": {},
     "output_type": "execute_result"
    }
   ],
   "source": [
    "nc.appointment_date.min()"
   ]
  },
  {
   "cell_type": "code",
   "execution_count": 34,
   "metadata": {},
   "outputs": [
    {
     "data": {
      "text/plain": [
       "Timestamp('2022-06-30 00:00:00')"
      ]
     },
     "execution_count": 34,
     "metadata": {},
     "output_type": "execute_result"
    }
   ],
   "source": [
    "nc.appointment_date.max()"
   ]
  },
  {
   "cell_type": "code",
   "execution_count": 35,
   "metadata": {},
   "outputs": [],
   "source": [
    "nc_subset = nc[(nc.appointment_date.between('2022-01-01', '2022-06-01')) \n",
    "               & (nc[\"sub_icb_location_name\"] == 'NHS North West London ICB - W2U3Z')]"
   ]
  },
  {
   "cell_type": "code",
   "execution_count": 36,
   "metadata": {},
   "outputs": [
    {
     "data": {
      "text/html": [
       "<div>\n",
       "<style scoped>\n",
       "    .dataframe tbody tr th:only-of-type {\n",
       "        vertical-align: middle;\n",
       "    }\n",
       "\n",
       "    .dataframe tbody tr th {\n",
       "        vertical-align: top;\n",
       "    }\n",
       "\n",
       "    .dataframe thead th {\n",
       "        text-align: right;\n",
       "    }\n",
       "</style>\n",
       "<table border=\"1\" class=\"dataframe\">\n",
       "  <thead>\n",
       "    <tr style=\"text-align: right;\">\n",
       "      <th></th>\n",
       "      <th>appointment_date</th>\n",
       "      <th>icb_ons_code</th>\n",
       "      <th>sub_icb_location_name</th>\n",
       "      <th>service_setting</th>\n",
       "      <th>context_type</th>\n",
       "      <th>national_category</th>\n",
       "      <th>count_of_appointments</th>\n",
       "      <th>appointment_month</th>\n",
       "    </tr>\n",
       "  </thead>\n",
       "  <tbody>\n",
       "    <tr>\n",
       "      <th>800289</th>\n",
       "      <td>2022-01-01</td>\n",
       "      <td>E54000027</td>\n",
       "      <td>NHS North West London ICB - W2U3Z</td>\n",
       "      <td>Unmapped</td>\n",
       "      <td>Unmapped</td>\n",
       "      <td>Unmapped</td>\n",
       "      <td>496</td>\n",
       "      <td>2022-01</td>\n",
       "    </tr>\n",
       "    <tr>\n",
       "      <th>800290</th>\n",
       "      <td>2022-01-01</td>\n",
       "      <td>E54000027</td>\n",
       "      <td>NHS North West London ICB - W2U3Z</td>\n",
       "      <td>Primary Care Network</td>\n",
       "      <td>Care Related Encounter</td>\n",
       "      <td>Clinical Triage</td>\n",
       "      <td>19</td>\n",
       "      <td>2022-01</td>\n",
       "    </tr>\n",
       "    <tr>\n",
       "      <th>800291</th>\n",
       "      <td>2022-01-01</td>\n",
       "      <td>E54000027</td>\n",
       "      <td>NHS North West London ICB - W2U3Z</td>\n",
       "      <td>Other</td>\n",
       "      <td>Inconsistent Mapping</td>\n",
       "      <td>Inconsistent Mapping</td>\n",
       "      <td>1</td>\n",
       "      <td>2022-01</td>\n",
       "    </tr>\n",
       "    <tr>\n",
       "      <th>800292</th>\n",
       "      <td>2022-01-01</td>\n",
       "      <td>E54000027</td>\n",
       "      <td>NHS North West London ICB - W2U3Z</td>\n",
       "      <td>General Practice</td>\n",
       "      <td>Inconsistent Mapping</td>\n",
       "      <td>Inconsistent Mapping</td>\n",
       "      <td>16</td>\n",
       "      <td>2022-01</td>\n",
       "    </tr>\n",
       "    <tr>\n",
       "      <th>800293</th>\n",
       "      <td>2022-01-01</td>\n",
       "      <td>E54000027</td>\n",
       "      <td>NHS North West London ICB - W2U3Z</td>\n",
       "      <td>Primary Care Network</td>\n",
       "      <td>Care Related Encounter</td>\n",
       "      <td>Planned Clinics</td>\n",
       "      <td>29</td>\n",
       "      <td>2022-01</td>\n",
       "    </tr>\n",
       "    <tr>\n",
       "      <th>...</th>\n",
       "      <td>...</td>\n",
       "      <td>...</td>\n",
       "      <td>...</td>\n",
       "      <td>...</td>\n",
       "      <td>...</td>\n",
       "      <td>...</td>\n",
       "      <td>...</td>\n",
       "      <td>...</td>\n",
       "    </tr>\n",
       "    <tr>\n",
       "      <th>806220</th>\n",
       "      <td>2022-06-01</td>\n",
       "      <td>E54000027</td>\n",
       "      <td>NHS North West London ICB - W2U3Z</td>\n",
       "      <td>Extended Access Provision</td>\n",
       "      <td>Care Related Encounter</td>\n",
       "      <td>Home Visit</td>\n",
       "      <td>4</td>\n",
       "      <td>2022-06</td>\n",
       "    </tr>\n",
       "    <tr>\n",
       "      <th>806221</th>\n",
       "      <td>2022-06-01</td>\n",
       "      <td>E54000027</td>\n",
       "      <td>NHS North West London ICB - W2U3Z</td>\n",
       "      <td>Extended Access Provision</td>\n",
       "      <td>Care Related Encounter</td>\n",
       "      <td>General Consultation Routine</td>\n",
       "      <td>27</td>\n",
       "      <td>2022-06</td>\n",
       "    </tr>\n",
       "    <tr>\n",
       "      <th>806222</th>\n",
       "      <td>2022-06-01</td>\n",
       "      <td>E54000027</td>\n",
       "      <td>NHS North West London ICB - W2U3Z</td>\n",
       "      <td>General Practice</td>\n",
       "      <td>Care Related Encounter</td>\n",
       "      <td>Unplanned Clinical Activity</td>\n",
       "      <td>626</td>\n",
       "      <td>2022-06</td>\n",
       "    </tr>\n",
       "    <tr>\n",
       "      <th>806223</th>\n",
       "      <td>2022-06-01</td>\n",
       "      <td>E54000027</td>\n",
       "      <td>NHS North West London ICB - W2U3Z</td>\n",
       "      <td>Extended Access Provision</td>\n",
       "      <td>Care Related Encounter</td>\n",
       "      <td>General Consultation Acute</td>\n",
       "      <td>224</td>\n",
       "      <td>2022-06</td>\n",
       "    </tr>\n",
       "    <tr>\n",
       "      <th>806224</th>\n",
       "      <td>2022-06-01</td>\n",
       "      <td>E54000027</td>\n",
       "      <td>NHS North West London ICB - W2U3Z</td>\n",
       "      <td>Extended Access Provision</td>\n",
       "      <td>Care Related Encounter</td>\n",
       "      <td>Clinical Triage</td>\n",
       "      <td>96</td>\n",
       "      <td>2022-06</td>\n",
       "    </tr>\n",
       "  </tbody>\n",
       "</table>\n",
       "<p>5936 rows × 8 columns</p>\n",
       "</div>"
      ],
      "text/plain": [
       "       appointment_date icb_ons_code              sub_icb_location_name  \\\n",
       "800289       2022-01-01    E54000027  NHS North West London ICB - W2U3Z   \n",
       "800290       2022-01-01    E54000027  NHS North West London ICB - W2U3Z   \n",
       "800291       2022-01-01    E54000027  NHS North West London ICB - W2U3Z   \n",
       "800292       2022-01-01    E54000027  NHS North West London ICB - W2U3Z   \n",
       "800293       2022-01-01    E54000027  NHS North West London ICB - W2U3Z   \n",
       "...                 ...          ...                                ...   \n",
       "806220       2022-06-01    E54000027  NHS North West London ICB - W2U3Z   \n",
       "806221       2022-06-01    E54000027  NHS North West London ICB - W2U3Z   \n",
       "806222       2022-06-01    E54000027  NHS North West London ICB - W2U3Z   \n",
       "806223       2022-06-01    E54000027  NHS North West London ICB - W2U3Z   \n",
       "806224       2022-06-01    E54000027  NHS North West London ICB - W2U3Z   \n",
       "\n",
       "                  service_setting            context_type  \\\n",
       "800289                   Unmapped                Unmapped   \n",
       "800290       Primary Care Network  Care Related Encounter   \n",
       "800291                      Other    Inconsistent Mapping   \n",
       "800292           General Practice    Inconsistent Mapping   \n",
       "800293       Primary Care Network  Care Related Encounter   \n",
       "...                           ...                     ...   \n",
       "806220  Extended Access Provision  Care Related Encounter   \n",
       "806221  Extended Access Provision  Care Related Encounter   \n",
       "806222           General Practice  Care Related Encounter   \n",
       "806223  Extended Access Provision  Care Related Encounter   \n",
       "806224  Extended Access Provision  Care Related Encounter   \n",
       "\n",
       "                   national_category  count_of_appointments appointment_month  \n",
       "800289                      Unmapped                    496           2022-01  \n",
       "800290               Clinical Triage                     19           2022-01  \n",
       "800291          Inconsistent Mapping                      1           2022-01  \n",
       "800292          Inconsistent Mapping                     16           2022-01  \n",
       "800293               Planned Clinics                     29           2022-01  \n",
       "...                              ...                    ...               ...  \n",
       "806220                    Home Visit                      4           2022-06  \n",
       "806221  General Consultation Routine                     27           2022-06  \n",
       "806222   Unplanned Clinical Activity                    626           2022-06  \n",
       "806223    General Consultation Acute                    224           2022-06  \n",
       "806224               Clinical Triage                     96           2022-06  \n",
       "\n",
       "[5936 rows x 8 columns]"
      ]
     },
     "execution_count": 36,
     "metadata": {},
     "output_type": "execute_result"
    }
   ],
   "source": [
    "nc_subset"
   ]
  },
  {
   "cell_type": "code",
   "execution_count": 37,
   "metadata": {},
   "outputs": [
    {
     "data": {
      "text/plain": [
       "General Practice             2104\n",
       "Other                        1318\n",
       "Primary Care Network         1272\n",
       "Extended Access Provision    1090\n",
       "Unmapped                      152\n",
       "Name: service_setting, dtype: int64"
      ]
     },
     "execution_count": 37,
     "metadata": {},
     "output_type": "execute_result"
    }
   ],
   "source": [
    "nc_subset.service_setting.value_counts()"
   ]
  },
  {
   "cell_type": "code",
   "execution_count": 38,
   "metadata": {},
   "outputs": [
    {
     "data": {
      "text/plain": [
       "appointment_date  appointment_date\n",
       "2021              8                   23852171\n",
       "2022              4                   23913060\n",
       "2021              12                  25140776\n",
       "2022              2                   25355260\n",
       "                  1                   25635474\n",
       "                  6                   25828078\n",
       "                  5                   27495508\n",
       "2021              9                   28522501\n",
       "2022              3                   29595038\n",
       "2021              10                  30303834\n",
       "                  11                  30405070\n",
       "Name: count_of_appointments, dtype: int64"
      ]
     },
     "execution_count": 38,
     "metadata": {},
     "output_type": "execute_result"
    }
   ],
   "source": [
    "nc.groupby([nc['appointment_date'].dt.year, \n",
    "            nc['appointment_date'].dt.month])['count_of_appointments'].sum().sort_values()"
   ]
  },
  {
   "cell_type": "code",
   "execution_count": 39,
   "metadata": {},
   "outputs": [
    {
     "name": "stdout",
     "output_type": "stream",
     "text": [
      "November in 2021 has the most appointments with 30405070\n"
     ]
    }
   ],
   "source": [
    "print(\"November in 2021 has the most appointments with 30405070\")"
   ]
  },
  {
   "cell_type": "code",
   "execution_count": 40,
   "metadata": {},
   "outputs": [
    {
     "data": {
      "text/plain": [
       "appointment_date  appointment_date\n",
       "2021              8                   69999\n",
       "                  9                   74922\n",
       "                  10                  74078\n",
       "                  11                  77652\n",
       "                  12                  72651\n",
       "2022              1                   71896\n",
       "                  2                   71769\n",
       "                  3                   82822\n",
       "                  4                   70012\n",
       "                  5                   77425\n",
       "                  6                   74168\n",
       "Name: count_of_appointments, dtype: int64"
      ]
     },
     "execution_count": 40,
     "metadata": {},
     "output_type": "execute_result"
    }
   ],
   "source": [
    "nc.groupby([nc['appointment_date'].dt.year, \n",
    "            nc['appointment_date'].dt.month])['count_of_appointments'].count()"
   ]
  },
  {
   "cell_type": "code",
   "execution_count": 41,
   "metadata": {},
   "outputs": [
    {
     "data": {
      "text/plain": [
       "appointment_date  appointment_date\n",
       "2021              8                   69999\n",
       "2022              4                   70012\n",
       "                  2                   71769\n",
       "                  1                   71896\n",
       "2021              12                  72651\n",
       "                  10                  74078\n",
       "2022              6                   74168\n",
       "2021              9                   74922\n",
       "2022              5                   77425\n",
       "2021              11                  77652\n",
       "2022              3                   82822\n",
       "Name: count_of_appointments, dtype: int64"
      ]
     },
     "execution_count": 41,
     "metadata": {},
     "output_type": "execute_result"
    }
   ],
   "source": [
    "nc.groupby([nc['appointment_date'].dt.year, \n",
    "            nc['appointment_date'].dt.month])['count_of_appointments'].count().sort_values()"
   ]
  },
  {
   "cell_type": "code",
   "execution_count": 43,
   "metadata": {},
   "outputs": [],
   "source": [
    "import matplotlib.pyplot as plt\n",
    "import seaborn as sns"
   ]
  },
  {
   "cell_type": "code",
   "execution_count": null,
   "metadata": {},
   "outputs": [],
   "source": []
  }
 ],
 "metadata": {
  "kernelspec": {
   "display_name": "Python 3",
   "language": "python",
   "name": "python3"
  },
  "language_info": {
   "codemirror_mode": {
    "name": "ipython",
    "version": 3
   },
   "file_extension": ".py",
   "mimetype": "text/x-python",
   "name": "python",
   "nbconvert_exporter": "python",
   "pygments_lexer": "ipython3",
   "version": "3.8.5"
  }
 },
 "nbformat": 4,
 "nbformat_minor": 4
}
